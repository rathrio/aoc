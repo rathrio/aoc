{
 "cells": [
  {
   "cell_type": "code",
   "execution_count": 23,
   "id": "ef5fdcdc-cfc9-41c4-9dc3-074ccd61238e",
   "metadata": {},
   "outputs": [],
   "source": [
    "import jupyter_black\n",
    "\n",
    "jupyter_black.load(\n",
    "    line_length=110,\n",
    ")"
   ]
  },
  {
   "cell_type": "code",
   "execution_count": 24,
   "id": "2e7cba78-49ef-41c3-9cde-f6d32ea6f850",
   "metadata": {},
   "outputs": [],
   "source": [
    "file = open(\"./input.txt\", \"r\")\n",
    "elves = file.read().split(\"\\n\\n\")"
   ]
  },
  {
   "cell_type": "markdown",
   "id": "912dcd75-1bb8-4f48-9784-fd9e51a84f82",
   "metadata": {},
   "source": [
    "# Part 1"
   ]
  },
  {
   "cell_type": "code",
   "execution_count": 25,
   "id": "0c6b0a32-bd8f-4191-90c5-7e039867208e",
   "metadata": {},
   "outputs": [
    {
     "data": {
      "text/plain": [
       "24000"
      ]
     },
     "execution_count": 25,
     "metadata": {},
     "output_type": "execute_result"
    }
   ],
   "source": [
    "max(list(map(lambda e: sum(list(map(lambda c: int(c), e.split(\"\\n\")))), elves)))"
   ]
  },
  {
   "cell_type": "markdown",
   "id": "b21dc99f-9c4e-4dea-acc7-3ca9df629ffa",
   "metadata": {},
   "source": [
    "# Part 2"
   ]
  },
  {
   "cell_type": "code",
   "execution_count": 37,
   "id": "8b1f432a-4084-4d87-be90-e84b9099386b",
   "metadata": {},
   "outputs": [
    {
     "data": {
      "text/plain": [
       "45000"
      ]
     },
     "execution_count": 37,
     "metadata": {},
     "output_type": "execute_result"
    }
   ],
   "source": [
    "calories = list(map(lambda e: sum(list(map(lambda c: int(c), e.split(\"\\n\")))), elves))\n",
    "calories.sort()\n",
    "sum(calories[-3:])"
   ]
  },
  {
   "cell_type": "code",
   "execution_count": null,
   "id": "e7a8647a-50e5-4179-8cb0-5ee9bb5cda99",
   "metadata": {},
   "outputs": [],
   "source": []
  }
 ],
 "metadata": {
  "kernelspec": {
   "display_name": "Python 3 (ipykernel)",
   "language": "python",
   "name": "python3"
  },
  "language_info": {
   "codemirror_mode": {
    "name": "ipython",
    "version": 3
   },
   "file_extension": ".py",
   "mimetype": "text/x-python",
   "name": "python",
   "nbconvert_exporter": "python",
   "pygments_lexer": "ipython3",
   "version": "3.10.8"
  }
 },
 "nbformat": 4,
 "nbformat_minor": 5
}
