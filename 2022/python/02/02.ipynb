{
 "cells": [
  {
   "cell_type": "code",
   "execution_count": 5,
   "id": "68ae1e2a-6707-40fc-b4be-cc6a59d3993f",
   "metadata": {},
   "outputs": [],
   "source": [
    "SCORES = {(\"Y\", \"X\"): 0, (\"Z\", \"X\"): 6, (\"X\", \"Y\"): 6, (\"Z\", \"Y\"): 0, (\"X\", \"Z\"): 0, (\"Y\", \"Z\"): 6}\n",
    "SHAPE_SCORES = {\"X\": 1, \"Y\": 2, \"Z\": 3}\n",
    "ENCODING = {\"A\": \"X\", \"B\": \"Y\", \"C\": \"Z\"}\n",
    "\n",
    "\n",
    "def score(play):\n",
    "    shape_score = SHAPE_SCORES[play[1]]\n",
    "\n",
    "    if play[0] == play[1]:\n",
    "        return 3 + shape_score\n",
    "\n",
    "    if SCORES.get(play) is None:\n",
    "        return 0 + shape_score\n",
    "\n",
    "    return SCORES[play] + shape_score\n",
    "\n",
    "\n",
    "file = open(\"./input.txt\", \"r\")\n",
    "input = [line.strip().split() for line in file.readlines()]"
   ]
  },
  {
   "cell_type": "markdown",
   "id": "c03148ce-26d3-4183-bc1f-dc9f3280ecdb",
   "metadata": {},
   "source": [
    "# Part 1"
   ]
  },
  {
   "cell_type": "code",
   "execution_count": 6,
   "id": "bb695e02-4ec9-4c3e-b0ab-f83430bc9e33",
   "metadata": {},
   "outputs": [
    {
     "data": {
      "text/plain": "9651"
     },
     "execution_count": 6,
     "metadata": {},
     "output_type": "execute_result"
    }
   ],
   "source": [
    "strategy = [(ENCODING[left], right) for (left, right) in input]\n",
    "sum([score(play) for play in strategy])"
   ]
  },
  {
   "cell_type": "markdown",
   "id": "3564c378-3aea-4222-9561-077d25593de1",
   "metadata": {},
   "source": [
    "# Part 2"
   ]
  },
  {
   "cell_type": "code",
   "execution_count": 7,
   "id": "78a0b14c-21bc-45df-b985-61760e9e6afb",
   "metadata": {},
   "outputs": [],
   "source": [
    "STRATEGY = {\n",
    "    \"A\": {\n",
    "        \"X\": \"C\",\n",
    "        \"Y\": \"A\",\n",
    "        \"Z\": \"B\",\n",
    "    },\n",
    "    \"B\": {\n",
    "        \"X\": \"A\",\n",
    "        \"Y\": \"B\",\n",
    "        \"Z\": \"C\",\n",
    "    },\n",
    "    \"C\": {\n",
    "        \"X\": \"B\",\n",
    "        \"Y\": \"C\",\n",
    "        \"Z\": \"A\",\n",
    "    },\n",
    "}"
   ]
  },
  {
   "cell_type": "code",
   "execution_count": 8,
   "id": "b5864f8f-0c9b-4319-bed1-5608b6ad0772",
   "metadata": {},
   "outputs": [
    {
     "data": {
      "text/plain": "10560"
     },
     "execution_count": 8,
     "metadata": {},
     "output_type": "execute_result"
    }
   ],
   "source": [
    "strategy = [(left, STRATEGY[left][right]) for (left, right) in input]\n",
    "sum([score((ENCODING[left], ENCODING[right])) for (left, right) in strategy])"
   ]
  },
  {
   "cell_type": "code",
   "execution_count": null,
   "outputs": [],
   "source": [],
   "metadata": {
    "collapsed": false,
    "pycharm": {
     "is_executing": true
    }
   }
  },
  {
   "cell_type": "code",
   "execution_count": 8,
   "outputs": [],
   "source": [],
   "metadata": {
    "collapsed": false
   }
  }
 ],
 "metadata": {
  "kernelspec": {
   "display_name": "Python 3 (ipykernel)",
   "language": "python",
   "name": "python3"
  },
  "language_info": {
   "codemirror_mode": {
    "name": "ipython",
    "version": 3
   },
   "file_extension": ".py",
   "mimetype": "text/x-python",
   "name": "python",
   "nbconvert_exporter": "python",
   "pygments_lexer": "ipython3",
   "version": "3.10.8"
  }
 },
 "nbformat": 4,
 "nbformat_minor": 5
}
