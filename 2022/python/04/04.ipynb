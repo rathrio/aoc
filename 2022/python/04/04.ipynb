{
 "cells": [
  {
   "cell_type": "code",
   "execution_count": 52,
   "metadata": {},
   "outputs": [],
   "source": [
    "def parse_sections(str):\n",
    "    sections = str.strip().split(\",\")\n",
    "    return tuple([tuple([int(x) for x in section.split(\"-\")]) for section in sections])\n",
    "\n",
    "\n",
    "file = open(\"input.txt\", \"r\")\n",
    "input = [parse_sections(line) for line in file.readlines()]"
   ]
  },
  {
   "attachments": {},
   "cell_type": "markdown",
   "metadata": {},
   "source": [
    "# Part 1"
   ]
  },
  {
   "cell_type": "code",
   "execution_count": 53,
   "metadata": {},
   "outputs": [
    {
     "data": {
      "text/plain": [
       "2"
      ]
     },
     "execution_count": 53,
     "metadata": {},
     "output_type": "execute_result"
    }
   ],
   "source": [
    "def contains_other(pair):\n",
    "    (l1, l2), (r1, r2) = pair\n",
    "    return l1 <= r1 and l2 >= r2 or r1 <= l1 and r2 >= l2\n",
    "\n",
    "len(list(filter(contains_other, input)))"
   ]
  },
  {
   "attachments": {},
   "cell_type": "markdown",
   "metadata": {},
   "source": [
    "# Part 2"
   ]
  },
  {
   "cell_type": "code",
   "execution_count": 63,
   "metadata": {},
   "outputs": [
    {
     "data": {
      "text/plain": [
       "4"
      ]
     },
     "execution_count": 63,
     "metadata": {},
     "output_type": "execute_result"
    }
   ],
   "source": [
    "def has_overlaps(pair):\n",
    "    (l1, l2), (r1, r2) = pair\n",
    "    s1 = set(range(l1, l2 + 1))\n",
    "    s2 = set(range(r1, r2 + 1))\n",
    "\n",
    "    return len(s1.intersection(s2)) != 0\n",
    "\n",
    "\n",
    "sum(list(map(has_overlaps, input)))\n"
   ]
  }
 ],
 "metadata": {
  "kernelspec": {
   "display_name": "Python 3.11.0 64-bit",
   "language": "python",
   "name": "python3"
  },
  "language_info": {
   "codemirror_mode": {
    "name": "ipython",
    "version": 3
   },
   "file_extension": ".py",
   "mimetype": "text/x-python",
   "name": "python",
   "nbconvert_exporter": "python",
   "pygments_lexer": "ipython3",
   "version": "3.11.0"
  },
  "orig_nbformat": 4,
  "vscode": {
   "interpreter": {
    "hash": "5c7b89af1651d0b8571dde13640ecdccf7d5a6204171d6ab33e7c296e100e08a"
   }
  }
 },
 "nbformat": 4,
 "nbformat_minor": 2
}
