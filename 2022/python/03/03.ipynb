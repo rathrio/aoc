{
 "cells": [
  {
   "cell_type": "code",
   "execution_count": 103,
   "id": "468360c4-5390-4fb6-bd9f-c4b318ac3449",
   "metadata": {},
   "outputs": [],
   "source": [
    "import string\n",
    "\n",
    "file = open(\"./sample.txt\", \"r\")\n",
    "lines = [line.strip() for line in file.readlines()]\n",
    "\n",
    "PRIORITIES = {}\n",
    "i = 1\n",
    "for letter in string.ascii_letters:\n",
    "    PRIORITIES[letter] = i\n",
    "    i += 1"
   ]
  },
  {
   "cell_type": "markdown",
   "id": "fdeae054",
   "metadata": {},
   "source": [
    "# Part 1"
   ]
  },
  {
   "cell_type": "code",
   "execution_count": 104,
   "id": "22a2cc46-b3bc-4e7e-87a8-46ffedfd0e1a",
   "metadata": {},
   "outputs": [
    {
     "data": {
      "text/plain": [
       "157"
      ]
     },
     "execution_count": 104,
     "metadata": {},
     "output_type": "execute_result"
    }
   ],
   "source": [
    "backpacks = [(b[:len(b) // 2], b[len(b) // 2:]) for b in lines]\n",
    "common = [set(c1).intersection(set(c2)).pop() for (c1, c2) in backpacks]\n",
    "sum([PRIORITIES[c] for c in common])"
   ]
  },
  {
   "cell_type": "markdown",
   "id": "062efe15",
   "metadata": {},
   "source": [
    "# Part 2"
   ]
  },
  {
   "cell_type": "code",
   "execution_count": 105,
   "id": "1faf5766",
   "metadata": {},
   "outputs": [
    {
     "name": "stdout",
     "output_type": "stream",
     "text": [
      "{'r'}\n",
      "{'Z'}\n"
     ]
    }
   ],
   "source": [
    "\n",
    "sum = 0\n",
    "current_group = []\n",
    "\n",
    "for line in lines:\n",
    "    current_group.append(set(line))\n",
    "\n",
    "    if len(current_group) == 3:\n",
    "        e1, e2, e3 = current_group\n",
    "        badge = e1.intersection(e2).intersection(e3)\n",
    "        sum += PRIORITIES[badge]\n",
    "\n",
    "        current_group = []\n"
   ]
  },
  {
   "cell_type": "code",
   "execution_count": null,
   "id": "de2b314b",
   "metadata": {},
   "outputs": [],
   "source": []
  }
 ],
 "metadata": {
  "kernelspec": {
   "display_name": "Python 3.10.8 ('venv': venv)",
   "language": "python",
   "name": "python3"
  },
  "language_info": {
   "codemirror_mode": {
    "name": "ipython",
    "version": 3
   },
   "file_extension": ".py",
   "mimetype": "text/x-python",
   "name": "python",
   "nbconvert_exporter": "python",
   "pygments_lexer": "ipython3",
   "version": "3.10.8"
  },
  "vscode": {
   "interpreter": {
    "hash": "391f346f96ef7c8b4b974e8b98ee56ea216a59a3bf9185ae6e47e7be1a5e666c"
   }
  }
 },
 "nbformat": 4,
 "nbformat_minor": 5
}
